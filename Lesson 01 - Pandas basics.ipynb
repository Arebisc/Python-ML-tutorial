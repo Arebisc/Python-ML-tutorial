{
 "cells": [
  {
   "cell_type": "markdown",
   "metadata": {},
   "source": [
    "# Lesson 01 - Pandas basics"
   ]
  },
  {
   "cell_type": "code",
   "execution_count": 3,
   "metadata": {},
   "outputs": [
    {
     "data": {
      "text/plain": [
       "'0.22.0'"
      ]
     },
     "execution_count": 3,
     "metadata": {},
     "output_type": "execute_result"
    }
   ],
   "source": [
    "import pandas as pd\n",
    "import numpy as np\n",
    "\n",
    "pd.__version__"
   ]
  },
  {
   "cell_type": "markdown",
   "metadata": {},
   "source": [
    "## Load data and basic info\n",
    "\n",
    "Let's load a csv file and view it. We use pandas read_csv function to do that:\n",
    "https://pandas.pydata.org/pandas-docs/stable/generated/pandas.read_csv.html\n",
    "\n",
    "The function loads a csv file into an object of a DataFrame type.\n",
    "\n",
    "There are plenty of options to try out. Below, we parser dataes in two of the columns. Pandas uses the concept of index. You can use any column as an index. If you do not provide any, a sequential index is added."
   ]
  },
  {
   "cell_type": "code",
   "execution_count": 4,
   "metadata": {
    "collapsed": true
   },
   "outputs": [],
   "source": [
    "bugs = pd.read_csv('./data/bugs_train.csv', parse_dates=['Opened', 'Changed'], index_col=None)"
   ]
  },
  {
   "cell_type": "markdown",
   "metadata": {},
   "source": [
    "If you want to view your data frame you can use head and tail methods:"
   ]
  },
  {
   "cell_type": "code",
   "execution_count": null,
   "metadata": {
    "collapsed": true
   },
   "outputs": [],
   "source": [
    "bugs.head(3)"
   ]
  },
  {
   "cell_type": "code",
   "execution_count": null,
   "metadata": {
    "collapsed": true
   },
   "outputs": [],
   "source": [
    "bugs.head(5)"
   ]
  },
  {
   "cell_type": "code",
   "execution_count": null,
   "metadata": {
    "collapsed": true
   },
   "outputs": [],
   "source": [
    "bugs.tail(3)"
   ]
  },
  {
   "cell_type": "markdown",
   "metadata": {},
   "source": [
    "Sometimes, we want to see what are the data types of columns in our data frame."
   ]
  },
  {
   "cell_type": "code",
   "execution_count": null,
   "metadata": {
    "collapsed": true
   },
   "outputs": [],
   "source": [
    "bugs.dtypes"
   ]
  },
  {
   "cell_type": "markdown",
   "metadata": {},
   "source": [
    "We use shape property to see what are the dimensions of the data frame"
   ]
  },
  {
   "cell_type": "code",
   "execution_count": null,
   "metadata": {
    "collapsed": true
   },
   "outputs": [],
   "source": [
    "bugs.shape"
   ]
  },
  {
   "cell_type": "markdown",
   "metadata": {},
   "source": [
    "You can check the names of the columns by using the following code:"
   ]
  },
  {
   "cell_type": "code",
   "execution_count": null,
   "metadata": {
    "collapsed": true
   },
   "outputs": [],
   "source": [
    "bugs.columns.get_values()"
   ]
  },
  {
   "cell_type": "markdown",
   "metadata": {},
   "source": [
    "## Basic data manipulation"
   ]
  },
  {
   "cell_type": "markdown",
   "metadata": {},
   "source": [
    "Selecting columns"
   ]
  },
  {
   "cell_type": "code",
   "execution_count": null,
   "metadata": {
    "collapsed": true
   },
   "outputs": [],
   "source": [
    "bugs[['Component', 'Assignee']].head(2)"
   ]
  },
  {
   "cell_type": "markdown",
   "metadata": {},
   "source": [
    "Accessing different cells by the loc method. You have to provide \"labels\" as coordinates to access a cell. If you use the default index, it is the labels. For columns this will be the names of columns:"
   ]
  },
  {
   "cell_type": "code",
   "execution_count": null,
   "metadata": {
    "collapsed": true
   },
   "outputs": [],
   "source": [
    "# accessing by label - 3 is the index label in this case\n",
    "bugs.loc[3, \"Assignee\"]"
   ]
  },
  {
   "cell_type": "markdown",
   "metadata": {},
   "source": [
    "You can also provide a list of values to select subregions of the data frame."
   ]
  },
  {
   "cell_type": "code",
   "execution_count": null,
   "metadata": {
    "collapsed": true
   },
   "outputs": [],
   "source": [
    "bugs.loc[1:3, [\"Assignee\", \"Status\"]]"
   ]
  },
  {
   "cell_type": "markdown",
   "metadata": {
    "collapsed": true
   },
   "source": [
    "The ix methods gives you flexibility since you can access cells by label or position, however the method is now deprecated"
   ]
  },
  {
   "cell_type": "code",
   "execution_count": null,
   "metadata": {
    "collapsed": true
   },
   "outputs": [],
   "source": [
    "bugs.ix[3, \"Assignee\"]"
   ]
  },
  {
   "cell_type": "code",
   "execution_count": null,
   "metadata": {
    "collapsed": true
   },
   "outputs": [],
   "source": [
    "bugs.ix[3, 1]"
   ]
  },
  {
   "cell_type": "markdown",
   "metadata": {},
   "source": [
    "However, you can achieve the same behaviour using the standard loc and iloc methods"
   ]
  },
  {
   "cell_type": "code",
   "execution_count": null,
   "metadata": {
    "collapsed": true
   },
   "outputs": [],
   "source": [
    "# using labels when you know the column number\n",
    "bugs.loc[3, bugs.columns[1]]"
   ]
  },
  {
   "cell_type": "markdown",
   "metadata": {},
   "source": [
    "We use the iloc method below. It works on indices instead of labels"
   ]
  },
  {
   "cell_type": "code",
   "execution_count": null,
   "metadata": {
    "collapsed": true
   },
   "outputs": [],
   "source": [
    "bugs.iloc[bugs.index.get_loc(3), 1]"
   ]
  },
  {
   "cell_type": "markdown",
   "metadata": {},
   "source": [
    "Remove rows/columns"
   ]
  },
  {
   "cell_type": "code",
   "execution_count": null,
   "metadata": {
    "collapsed": true
   },
   "outputs": [],
   "source": [
    "# remove rows\n",
    "bugs.drop([1,2], axis=0).head(4) "
   ]
  },
  {
   "cell_type": "code",
   "execution_count": null,
   "metadata": {
    "collapsed": true
   },
   "outputs": [],
   "source": [
    "#remove columns\n",
    "bugs.drop([\"Status\",\"Assignee\"], axis=1).head(4) "
   ]
  },
  {
   "cell_type": "markdown",
   "metadata": {},
   "source": [
    "Rename"
   ]
  },
  {
   "cell_type": "code",
   "execution_count": null,
   "metadata": {
    "collapsed": true
   },
   "outputs": [],
   "source": [
    "bugs.rename(columns={\"Summary\": \"Info\"}).head(2)"
   ]
  },
  {
   "cell_type": "code",
   "execution_count": null,
   "metadata": {
    "collapsed": true
   },
   "outputs": [],
   "source": [
    "bugs.rename(columns=str.upper).head(2)"
   ]
  },
  {
   "cell_type": "markdown",
   "metadata": {},
   "source": [
    "We can also define our own function. Let's it add my_ as a suffix to the name of the column"
   ]
  },
  {
   "cell_type": "code",
   "execution_count": null,
   "metadata": {
    "collapsed": true
   },
   "outputs": [],
   "source": [
    "def my_column(x):\n",
    "    return \"my_\"+x\n",
    "bugs.rename(columns=my_column).head(2)"
   ]
  },
  {
   "cell_type": "markdown",
   "metadata": {
    "collapsed": true
   },
   "source": [
    "Changing type to category"
   ]
  },
  {
   "cell_type": "code",
   "execution_count": null,
   "metadata": {
    "collapsed": true
   },
   "outputs": [],
   "source": [
    "bugs.Status.astype(\"category\", categories=[\"VERIFIED\", \"RESOLVED\", \"CLOSED\"], ordered=True).head()"
   ]
  },
  {
   "cell_type": "markdown",
   "metadata": {},
   "source": [
    "Filtering"
   ]
  },
  {
   "cell_type": "code",
   "execution_count": null,
   "metadata": {
    "collapsed": true
   },
   "outputs": [],
   "source": [
    "bugs[bugs['Component'] == 'Debug' ].head(3)"
   ]
  },
  {
   "cell_type": "code",
   "execution_count": null,
   "metadata": {
    "collapsed": true
   },
   "outputs": [],
   "source": [
    "bugs[ (bugs['Component'] == 'Debug') &  (bugs['Severity'] == 'normal') ].head(3)"
   ]
  },
  {
   "cell_type": "code",
   "execution_count": null,
   "metadata": {
    "collapsed": true
   },
   "outputs": [],
   "source": [
    "bugs[ (bugs['Component'] == 'Debug') |  (bugs['Severity'] == 'normal') ].head(3)"
   ]
  },
  {
   "cell_type": "code",
   "execution_count": null,
   "metadata": {
    "collapsed": true
   },
   "outputs": [],
   "source": [
    "bugs[bugs['Opened'] > '2005'].head(2)"
   ]
  },
  {
   "cell_type": "code",
   "execution_count": 1,
   "metadata": {},
   "outputs": [
    {
     "ename": "NameError",
     "evalue": "name 'bugs' is not defined",
     "output_type": "error",
     "traceback": [
      "\u001b[0;31m---------------------------------------------------------------------------\u001b[0m",
      "\u001b[0;31mNameError\u001b[0m                                 Traceback (most recent call last)",
      "\u001b[0;32m<ipython-input-1-ab43d4168b37>\u001b[0m in \u001b[0;36m<module>\u001b[0;34m()\u001b[0m\n\u001b[0;32m----> 1\u001b[0;31m \u001b[0mbugs\u001b[0m\u001b[0;34m[\u001b[0m\u001b[0mbugs\u001b[0m\u001b[0;34m[\u001b[0m\u001b[0;34m'Priority'\u001b[0m\u001b[0;34m]\u001b[0m\u001b[0;34m.\u001b[0m\u001b[0misin\u001b[0m\u001b[0;34m(\u001b[0m\u001b[0;34m[\u001b[0m\u001b[0;34m\"P1\"\u001b[0m\u001b[0;34m,\u001b[0m \u001b[0;34m\"P2\"\u001b[0m\u001b[0;34m]\u001b[0m\u001b[0;34m)\u001b[0m\u001b[0;34m]\u001b[0m\u001b[0;34m.\u001b[0m\u001b[0mhead\u001b[0m\u001b[0;34m(\u001b[0m\u001b[0;36m2\u001b[0m\u001b[0;34m)\u001b[0m\u001b[0;34m\u001b[0m\u001b[0m\n\u001b[0m",
      "\u001b[0;31mNameError\u001b[0m: name 'bugs' is not defined"
     ]
    }
   ],
   "source": [
    "bugs[bugs['Priority'].isin([\"P1\", \"P2\"])].head(2)"
   ]
  },
  {
   "cell_type": "code",
   "execution_count": 8,
   "metadata": {},
   "outputs": [
    {
     "data": {
      "text/plain": [
       "[23571,\n",
       " 23572,\n",
       " 23573,\n",
       " 23574,\n",
       " 23575,\n",
       " 23576,\n",
       " 23577,\n",
       " 23578,\n",
       " 23579,\n",
       " 23580,\n",
       " 23581,\n",
       " 23582,\n",
       " 23583,\n",
       " 23584,\n",
       " 23585,\n",
       " 23586,\n",
       " 23587,\n",
       " 23588,\n",
       " 23589,\n",
       " 23590,\n",
       " 23591,\n",
       " 23592,\n",
       " 23593,\n",
       " 23594,\n",
       " 23595,\n",
       " 23596,\n",
       " 23597,\n",
       " 23598,\n",
       " 23599,\n",
       " 23600,\n",
       " 23601,\n",
       " 23602,\n",
       " 23603,\n",
       " 23604,\n",
       " 23605,\n",
       " 23606,\n",
       " 23607,\n",
       " 23608,\n",
       " 23609,\n",
       " 23610,\n",
       " 23611,\n",
       " 23612,\n",
       " 23613,\n",
       " 23614,\n",
       " 23615,\n",
       " 23616,\n",
       " 23617,\n",
       " 23618,\n",
       " 23619,\n",
       " 23620,\n",
       " 23621,\n",
       " 23622,\n",
       " 23623,\n",
       " 23624,\n",
       " 23625,\n",
       " 23626,\n",
       " 23627,\n",
       " 23628,\n",
       " 23629,\n",
       " 23630,\n",
       " 23631,\n",
       " 23632,\n",
       " 23633,\n",
       " 23634,\n",
       " 23635,\n",
       " 23636,\n",
       " 23637,\n",
       " 23638,\n",
       " 23639,\n",
       " 23640,\n",
       " 23641,\n",
       " 23642,\n",
       " 23643,\n",
       " 23644,\n",
       " 23645,\n",
       " 23646,\n",
       " 23647,\n",
       " 23648,\n",
       " 23649,\n",
       " 23650,\n",
       " 23651,\n",
       " 23652,\n",
       " 23653,\n",
       " 23654,\n",
       " 23655,\n",
       " 23656,\n",
       " 23657,\n",
       " 23658,\n",
       " 23659,\n",
       " 23660,\n",
       " 23661,\n",
       " 23662,\n",
       " 23663,\n",
       " 23664,\n",
       " 23665,\n",
       " 23666,\n",
       " 23667,\n",
       " 23668,\n",
       " 23669,\n",
       " 23670,\n",
       " 23671,\n",
       " 23672,\n",
       " 23673,\n",
       " 23674,\n",
       " 23675,\n",
       " 23676,\n",
       " 23677,\n",
       " 23678,\n",
       " 23679,\n",
       " 23680,\n",
       " 23681,\n",
       " 23682,\n",
       " 23683,\n",
       " 23684,\n",
       " 23685,\n",
       " 23686,\n",
       " 23687,\n",
       " 23688,\n",
       " 23689,\n",
       " 23690,\n",
       " 23691,\n",
       " 23692,\n",
       " 23693,\n",
       " 23694,\n",
       " 23695,\n",
       " 23696,\n",
       " 23697,\n",
       " 23698,\n",
       " 23699,\n",
       " 23700,\n",
       " 23701,\n",
       " 23702,\n",
       " 23703,\n",
       " 23704,\n",
       " 23705,\n",
       " 23706,\n",
       " 23707,\n",
       " 23708,\n",
       " 23709,\n",
       " 23710,\n",
       " 23711,\n",
       " 23712,\n",
       " 23713,\n",
       " 23714,\n",
       " 23715,\n",
       " 23716,\n",
       " 23717,\n",
       " 23718,\n",
       " 23719,\n",
       " 23720,\n",
       " 23721,\n",
       " 23722,\n",
       " 23723,\n",
       " 23724,\n",
       " 23725,\n",
       " 23726,\n",
       " 23727,\n",
       " 23728,\n",
       " 23729,\n",
       " 23730,\n",
       " 23731,\n",
       " 23732,\n",
       " 23733,\n",
       " 23734,\n",
       " 23735,\n",
       " 23736,\n",
       " 23737,\n",
       " 23738,\n",
       " 23739,\n",
       " 23740,\n",
       " 23741,\n",
       " 23742,\n",
       " 23743,\n",
       " 23744,\n",
       " 23745,\n",
       " 23746,\n",
       " 23747,\n",
       " 23748,\n",
       " 23749,\n",
       " 23750,\n",
       " 23751,\n",
       " 23752,\n",
       " 23753,\n",
       " 23754,\n",
       " 23755,\n",
       " 23756,\n",
       " 23757,\n",
       " 23758,\n",
       " 23759,\n",
       " 23760,\n",
       " 23761,\n",
       " 23762,\n",
       " 23763,\n",
       " 23764,\n",
       " 23765,\n",
       " 23766,\n",
       " 23767,\n",
       " 23768,\n",
       " 23769,\n",
       " 23770,\n",
       " 23771,\n",
       " 23772,\n",
       " 23773,\n",
       " 23774,\n",
       " 23775,\n",
       " 23776,\n",
       " 23777,\n",
       " 23778,\n",
       " 23779,\n",
       " 23780,\n",
       " 23781,\n",
       " 23782,\n",
       " 23783,\n",
       " 23784,\n",
       " 23785,\n",
       " 23786,\n",
       " 23787,\n",
       " 23788,\n",
       " 23789,\n",
       " 23790,\n",
       " 23791,\n",
       " 23792,\n",
       " 23793,\n",
       " 23794,\n",
       " 23795,\n",
       " 23796,\n",
       " 23797,\n",
       " 23798,\n",
       " 23799,\n",
       " 23800,\n",
       " 23801,\n",
       " 23802,\n",
       " 23803,\n",
       " 23804,\n",
       " 23805,\n",
       " 23806,\n",
       " 23807,\n",
       " 23808,\n",
       " 23809,\n",
       " 23810,\n",
       " 23811,\n",
       " 23812,\n",
       " 23813,\n",
       " 23814,\n",
       " 23815,\n",
       " 23816,\n",
       " 23817,\n",
       " 23818,\n",
       " 23819,\n",
       " 23820,\n",
       " 23821,\n",
       " 23822,\n",
       " 23823,\n",
       " 23824,\n",
       " 23825,\n",
       " 23826,\n",
       " 23827,\n",
       " 23828,\n",
       " 23829,\n",
       " 23830,\n",
       " 23831,\n",
       " 23832,\n",
       " 23833,\n",
       " 23834,\n",
       " 23835,\n",
       " 23836,\n",
       " 23837,\n",
       " 23838,\n",
       " 23839,\n",
       " 23840,\n",
       " 23841,\n",
       " 23842,\n",
       " 23843,\n",
       " 23844,\n",
       " 23845,\n",
       " 23846,\n",
       " 23847,\n",
       " 23848,\n",
       " 23849,\n",
       " 23850,\n",
       " 23851,\n",
       " 23852,\n",
       " 23853,\n",
       " 23854,\n",
       " 23855,\n",
       " 23856,\n",
       " 23857,\n",
       " 23858,\n",
       " 23859,\n",
       " 23860,\n",
       " 23861,\n",
       " 23862,\n",
       " 23863,\n",
       " 23864,\n",
       " 23865,\n",
       " 23866,\n",
       " 23867,\n",
       " 23868,\n",
       " 23869,\n",
       " 23870,\n",
       " 23871,\n",
       " 23872,\n",
       " 23873,\n",
       " 23874,\n",
       " 23875,\n",
       " 23876,\n",
       " 23877,\n",
       " 23878,\n",
       " 23879,\n",
       " 23880,\n",
       " 23881,\n",
       " 23882,\n",
       " 23883,\n",
       " 23884,\n",
       " 23885,\n",
       " 23886,\n",
       " 23887,\n",
       " 23888,\n",
       " 23889,\n",
       " 23890,\n",
       " 23891,\n",
       " 23892,\n",
       " 23893,\n",
       " 23894,\n",
       " 23895,\n",
       " 23896,\n",
       " 23897,\n",
       " 23898,\n",
       " 23899,\n",
       " 23900,\n",
       " 23901,\n",
       " 23902,\n",
       " 23903,\n",
       " 23904,\n",
       " 23905,\n",
       " 23906,\n",
       " 23907,\n",
       " 23908,\n",
       " 23909,\n",
       " 23910,\n",
       " 23911,\n",
       " 23912,\n",
       " 23913,\n",
       " 23914,\n",
       " 23915,\n",
       " 23916,\n",
       " 23917,\n",
       " 23918,\n",
       " 23919,\n",
       " 23920,\n",
       " 23921,\n",
       " 23922,\n",
       " 23923,\n",
       " 23924,\n",
       " 23925,\n",
       " 23926,\n",
       " 23927,\n",
       " 23928,\n",
       " 23929,\n",
       " 23930,\n",
       " 23931,\n",
       " 23932,\n",
       " 23933,\n",
       " 23934,\n",
       " 23935,\n",
       " 23936,\n",
       " 23937,\n",
       " 23938,\n",
       " 23939,\n",
       " 23940,\n",
       " 23941,\n",
       " 23942,\n",
       " 23943,\n",
       " 23944,\n",
       " 23945,\n",
       " 23946,\n",
       " 23947,\n",
       " 23948,\n",
       " 23949,\n",
       " 23950,\n",
       " 23951,\n",
       " 23952,\n",
       " 23953,\n",
       " 23954,\n",
       " 23955,\n",
       " 23956,\n",
       " 23957,\n",
       " 23958,\n",
       " 23959,\n",
       " 23960,\n",
       " 23961,\n",
       " 23962,\n",
       " 23963,\n",
       " 23964,\n",
       " 23965,\n",
       " 23966,\n",
       " 23967,\n",
       " 23968,\n",
       " 23969,\n",
       " 23970,\n",
       " 23971,\n",
       " 23972,\n",
       " 23973,\n",
       " 23974,\n",
       " 23975,\n",
       " 23976,\n",
       " 23977,\n",
       " 23978,\n",
       " 23979,\n",
       " 23980,\n",
       " 23981,\n",
       " 23982,\n",
       " 23983,\n",
       " 23984,\n",
       " 23985,\n",
       " 23986,\n",
       " 23987,\n",
       " 23988,\n",
       " 23989,\n",
       " 23990,\n",
       " 23991,\n",
       " 23992,\n",
       " 23993,\n",
       " 23994,\n",
       " 23995,\n",
       " 23996,\n",
       " 23997,\n",
       " 23998,\n",
       " 23999,\n",
       " 24000,\n",
       " 24001,\n",
       " 24002,\n",
       " 24003,\n",
       " 24004,\n",
       " 24005,\n",
       " 24006,\n",
       " 24007,\n",
       " 24008,\n",
       " 24009,\n",
       " 24010,\n",
       " 24011,\n",
       " 24012,\n",
       " 24013,\n",
       " 24014,\n",
       " 24015,\n",
       " 24016,\n",
       " 24017,\n",
       " 24018,\n",
       " 24019,\n",
       " 24020,\n",
       " 24021,\n",
       " 24022,\n",
       " 24023,\n",
       " 24024,\n",
       " 24025,\n",
       " 24026,\n",
       " 24027,\n",
       " 24028,\n",
       " 24029,\n",
       " 24030,\n",
       " 24031,\n",
       " 24032,\n",
       " 24033,\n",
       " 24034,\n",
       " 24035,\n",
       " 24036,\n",
       " 24037,\n",
       " 24038,\n",
       " 24039,\n",
       " 24040,\n",
       " 24041,\n",
       " 24042,\n",
       " 24043,\n",
       " 24044,\n",
       " 24045,\n",
       " 24046,\n",
       " 24047,\n",
       " 24048,\n",
       " 24049,\n",
       " 24050,\n",
       " 24051,\n",
       " 24052,\n",
       " 24053,\n",
       " 24054,\n",
       " 24055,\n",
       " 24056,\n",
       " 24057,\n",
       " 24058,\n",
       " 24059,\n",
       " 24060,\n",
       " 24061,\n",
       " 24062,\n",
       " 24063,\n",
       " 24064,\n",
       " 24065,\n",
       " 24066,\n",
       " 24067,\n",
       " 24068,\n",
       " 24069,\n",
       " 24070,\n",
       " 24071,\n",
       " 24072,\n",
       " 24073,\n",
       " 24074,\n",
       " 24075,\n",
       " 24076,\n",
       " 24077,\n",
       " 24078,\n",
       " 24079,\n",
       " 24080,\n",
       " 24081,\n",
       " 24082,\n",
       " 24083,\n",
       " 24084,\n",
       " 24085,\n",
       " 24086,\n",
       " 24087,\n",
       " 24088,\n",
       " 24089,\n",
       " 24090,\n",
       " 24091,\n",
       " 24092,\n",
       " 24093,\n",
       " 24094,\n",
       " 24095,\n",
       " 24096,\n",
       " 24097,\n",
       " 24098,\n",
       " 24099,\n",
       " 24100,\n",
       " 24101,\n",
       " 24102,\n",
       " 24103,\n",
       " 24104,\n",
       " 24105,\n",
       " 24106,\n",
       " 24107,\n",
       " 24108,\n",
       " 24109,\n",
       " 24110,\n",
       " 24111,\n",
       " 24112,\n",
       " 24113,\n",
       " 24114,\n",
       " 24115,\n",
       " 24116,\n",
       " 24117,\n",
       " 24118,\n",
       " 24119,\n",
       " 24120,\n",
       " 24121,\n",
       " 24122,\n",
       " 24123,\n",
       " 24124,\n",
       " 24125,\n",
       " 24126,\n",
       " 24127,\n",
       " 24128,\n",
       " 24129,\n",
       " 24130,\n",
       " 24131,\n",
       " 24132,\n",
       " 24133,\n",
       " 24134,\n",
       " 24135,\n",
       " 24136,\n",
       " 24137,\n",
       " 24138,\n",
       " 24139,\n",
       " 24140,\n",
       " 24141,\n",
       " 24142,\n",
       " 24143,\n",
       " 24144,\n",
       " 24145,\n",
       " 24146,\n",
       " 24147,\n",
       " 24148,\n",
       " 24149,\n",
       " 24150,\n",
       " 24151,\n",
       " 24152,\n",
       " 24153,\n",
       " 24154,\n",
       " 24155,\n",
       " 24156,\n",
       " 24157,\n",
       " 24158,\n",
       " 24159,\n",
       " 24160,\n",
       " 24161,\n",
       " 24162,\n",
       " 24163,\n",
       " 24164,\n",
       " 24165,\n",
       " 24166,\n",
       " 24167,\n",
       " 24168,\n",
       " 24169,\n",
       " 24170,\n",
       " 24171,\n",
       " 24172,\n",
       " 24173,\n",
       " 24174,\n",
       " 24175,\n",
       " 24176,\n",
       " 24177,\n",
       " 24178,\n",
       " 24179,\n",
       " 24180,\n",
       " 24181,\n",
       " 24182,\n",
       " 24183,\n",
       " 24184,\n",
       " 24185,\n",
       " 24186,\n",
       " 24187,\n",
       " 24188,\n",
       " 24189,\n",
       " 24190,\n",
       " 24191,\n",
       " 24192,\n",
       " 24193,\n",
       " 24194,\n",
       " 24195,\n",
       " 24196,\n",
       " 24197,\n",
       " 24198,\n",
       " 24199,\n",
       " 24200,\n",
       " 24201,\n",
       " 24202,\n",
       " 24203,\n",
       " 24204,\n",
       " 24205,\n",
       " 24206,\n",
       " 24207,\n",
       " 24208,\n",
       " 24209,\n",
       " 24210,\n",
       " 24211,\n",
       " 24212,\n",
       " 24213,\n",
       " 24214,\n",
       " 24215,\n",
       " 24216,\n",
       " 24217,\n",
       " 24218,\n",
       " 24219,\n",
       " 24220,\n",
       " 24221,\n",
       " 24222,\n",
       " 24223,\n",
       " 24224,\n",
       " 24225,\n",
       " 24226,\n",
       " 24227,\n",
       " 24228,\n",
       " 24229,\n",
       " 24230,\n",
       " 24231,\n",
       " 24232,\n",
       " 24233,\n",
       " 24234,\n",
       " 24235,\n",
       " 24236,\n",
       " 24237,\n",
       " 24238,\n",
       " 24239,\n",
       " 24240,\n",
       " 24241,\n",
       " 24242,\n",
       " 24243,\n",
       " 24244,\n",
       " 24245,\n",
       " 24246,\n",
       " 24247,\n",
       " 24248,\n",
       " 24249,\n",
       " 24250,\n",
       " 24251,\n",
       " 24252,\n",
       " 24253,\n",
       " 24254,\n",
       " 24255,\n",
       " 24256,\n",
       " 24257,\n",
       " 24258,\n",
       " 24259,\n",
       " 24260,\n",
       " 24261,\n",
       " 24262,\n",
       " 24263,\n",
       " 24264,\n",
       " 24265,\n",
       " 24266,\n",
       " 24267,\n",
       " 24268,\n",
       " 24269,\n",
       " 24270,\n",
       " 24271,\n",
       " 24272,\n",
       " 24273,\n",
       " 24274,\n",
       " 24275,\n",
       " 24276,\n",
       " 24277,\n",
       " 24278,\n",
       " 24279,\n",
       " 24280,\n",
       " 24281,\n",
       " 24282,\n",
       " 24283,\n",
       " 24284,\n",
       " 24285,\n",
       " 24286,\n",
       " 24287,\n",
       " 24288,\n",
       " 24289,\n",
       " 24290,\n",
       " 24291,\n",
       " 24292,\n",
       " 24293,\n",
       " 24294,\n",
       " 24295,\n",
       " 24296,\n",
       " 24297,\n",
       " 24298,\n",
       " 24299,\n",
       " 24300,\n",
       " 24301,\n",
       " 24302,\n",
       " 24303,\n",
       " 24304,\n",
       " 24305,\n",
       " 24306,\n",
       " 24307,\n",
       " 24308,\n",
       " 24309,\n",
       " 24310,\n",
       " 24311,\n",
       " 24312,\n",
       " 24313,\n",
       " 24314,\n",
       " 24315,\n",
       " 24316,\n",
       " 24317,\n",
       " 24318,\n",
       " 24319,\n",
       " 24320,\n",
       " 24321,\n",
       " 24322,\n",
       " 24323,\n",
       " 24324,\n",
       " 24325,\n",
       " 24326,\n",
       " 24327,\n",
       " 24328,\n",
       " 24329,\n",
       " 24330,\n",
       " 24331,\n",
       " 24332,\n",
       " 24333,\n",
       " 24334,\n",
       " 24335,\n",
       " 24336,\n",
       " 24337,\n",
       " 24338,\n",
       " 24339,\n",
       " 24340,\n",
       " 24341,\n",
       " 24342,\n",
       " 24343,\n",
       " 24344,\n",
       " 24345,\n",
       " 24346,\n",
       " 24347,\n",
       " 24348,\n",
       " 24349,\n",
       " 24350,\n",
       " 24351,\n",
       " 24352,\n",
       " 24353,\n",
       " 24354,\n",
       " 24355,\n",
       " 24356,\n",
       " 24357,\n",
       " 24358,\n",
       " 24359,\n",
       " 24360,\n",
       " 24361,\n",
       " 24362,\n",
       " 24363,\n",
       " 24364,\n",
       " 24365,\n",
       " 24366,\n",
       " 24367,\n",
       " 24368,\n",
       " 24369,\n",
       " 24370,\n",
       " 24371,\n",
       " 24372,\n",
       " 24373,\n",
       " 24374,\n",
       " 24375,\n",
       " 24376,\n",
       " 24377,\n",
       " 24378,\n",
       " 24379,\n",
       " 24380,\n",
       " 24381,\n",
       " 24382,\n",
       " 24383,\n",
       " 24384,\n",
       " 24385,\n",
       " 24386,\n",
       " 24387,\n",
       " 24388,\n",
       " 24389,\n",
       " 24390,\n",
       " 24391,\n",
       " 24392,\n",
       " 24393,\n",
       " 24394,\n",
       " 24395,\n",
       " 24396,\n",
       " 24397,\n",
       " 24398,\n",
       " 24399,\n",
       " 24400,\n",
       " 24401,\n",
       " 24402,\n",
       " 24403,\n",
       " 24404,\n",
       " 24405,\n",
       " 24406,\n",
       " 24407,\n",
       " 24408,\n",
       " 24409,\n",
       " 24410,\n",
       " 24411,\n",
       " 24412,\n",
       " 24413,\n",
       " 24414,\n",
       " 24415,\n",
       " 24416,\n",
       " 24417,\n",
       " 24418,\n",
       " 24419,\n",
       " 24420,\n",
       " 24421,\n",
       " 24422,\n",
       " 24423,\n",
       " 24424,\n",
       " 24425,\n",
       " 24426,\n",
       " 24427,\n",
       " 24428,\n",
       " 24429,\n",
       " 24430,\n",
       " 24431,\n",
       " 24432,\n",
       " 24433,\n",
       " 24434,\n",
       " 24435,\n",
       " 24436,\n",
       " 24437,\n",
       " 24438,\n",
       " 24439,\n",
       " 24440,\n",
       " 24441,\n",
       " 24442,\n",
       " 24443,\n",
       " 24444,\n",
       " 24445,\n",
       " 24446,\n",
       " 24447,\n",
       " 24448,\n",
       " 24449,\n",
       " 24450,\n",
       " 24451,\n",
       " 24452,\n",
       " 24453,\n",
       " 24454,\n",
       " 24455,\n",
       " 24456,\n",
       " 24457,\n",
       " 24458,\n",
       " 24459,\n",
       " 24460,\n",
       " 24461,\n",
       " 24462,\n",
       " 24463,\n",
       " 24464,\n",
       " 24465,\n",
       " 24466,\n",
       " 24467,\n",
       " 24468,\n",
       " 24469,\n",
       " 24470,\n",
       " 24471,\n",
       " 24472,\n",
       " 24473,\n",
       " 24474,\n",
       " 24475,\n",
       " 24476,\n",
       " 24477,\n",
       " 24478,\n",
       " 24479,\n",
       " 24480,\n",
       " 24481,\n",
       " 24482,\n",
       " 24483,\n",
       " 24484,\n",
       " 24485,\n",
       " 24486,\n",
       " 24487,\n",
       " 24488,\n",
       " 24489,\n",
       " 24490,\n",
       " 24491,\n",
       " 24492,\n",
       " 24493,\n",
       " 24494,\n",
       " 24495,\n",
       " 24496,\n",
       " 24497,\n",
       " 24498,\n",
       " 24499,\n",
       " 24500,\n",
       " 24501,\n",
       " 24502,\n",
       " 24503,\n",
       " 24504,\n",
       " 24505,\n",
       " 24506,\n",
       " 24507,\n",
       " 24508,\n",
       " 24509,\n",
       " 24510,\n",
       " 24511,\n",
       " 24512,\n",
       " 24513,\n",
       " 24514,\n",
       " 24515,\n",
       " 24516,\n",
       " 24517,\n",
       " 24518,\n",
       " 24519,\n",
       " 24520,\n",
       " 24521,\n",
       " 24522,\n",
       " 24523,\n",
       " 24524,\n",
       " 24525,\n",
       " 24526,\n",
       " 24527,\n",
       " 24528,\n",
       " 24529,\n",
       " 24530,\n",
       " 24531,\n",
       " 24532,\n",
       " 24533,\n",
       " 24534,\n",
       " 24535,\n",
       " 24536,\n",
       " 24537,\n",
       " 24538,\n",
       " 24539,\n",
       " 24540,\n",
       " 24541,\n",
       " 24542,\n",
       " 24543,\n",
       " 24544,\n",
       " 24545,\n",
       " 24546,\n",
       " 24547,\n",
       " 24548,\n",
       " 24549,\n",
       " 24550,\n",
       " 24551,\n",
       " 24552,\n",
       " 24553,\n",
       " 24554,\n",
       " 24555,\n",
       " 24556,\n",
       " 24557,\n",
       " 24558,\n",
       " 24559,\n",
       " 24560,\n",
       " 24561,\n",
       " 24562,\n",
       " 24563,\n",
       " 24564,\n",
       " 24565,\n",
       " 24566,\n",
       " 24567,\n",
       " 24568,\n",
       " 24569,\n",
       " 24570,\n",
       " ...]"
      ]
     },
     "execution_count": 8,
     "metadata": {},
     "output_type": "execute_result"
    }
   ],
   "source": [
    "list(bugs[bugs['Opened'] > '2005'].index)"
   ]
  },
  {
   "cell_type": "markdown",
   "metadata": {
    "collapsed": true
   },
   "source": [
    "Adding a column (new values, based on existing columns)"
   ]
  },
  {
   "cell_type": "code",
   "execution_count": null,
   "metadata": {
    "collapsed": true
   },
   "outputs": [],
   "source": [
    "bugs.assign(x=pd.Series(np.random.randn(bugs.shape[0])).values)"
   ]
  },
  {
   "cell_type": "code",
   "execution_count": null,
   "metadata": {
    "collapsed": true
   },
   "outputs": [],
   "source": []
  },
  {
   "cell_type": "markdown",
   "metadata": {},
   "source": [
    "Merge by row"
   ]
  },
  {
   "cell_type": "code",
   "execution_count": null,
   "metadata": {
    "collapsed": true
   },
   "outputs": [],
   "source": [
    "pd.concat([bugs, bugs], axis=0).head(1)"
   ]
  },
  {
   "cell_type": "code",
   "execution_count": null,
   "metadata": {
    "collapsed": true
   },
   "outputs": [],
   "source": []
  },
  {
   "cell_type": "markdown",
   "metadata": {},
   "source": [
    "Merge by column"
   ]
  },
  {
   "cell_type": "code",
   "execution_count": null,
   "metadata": {
    "collapsed": true
   },
   "outputs": [],
   "source": [
    "pd.concat([bugs, bugs], axis=1).head(1)"
   ]
  },
  {
   "cell_type": "markdown",
   "metadata": {
    "collapsed": true
   },
   "source": [
    "## Tasks"
   ]
  },
  {
   "cell_type": "markdown",
   "metadata": {},
   "source": [
    "Task 1. Display last ten rows of the bugs data frame"
   ]
  },
  {
   "cell_type": "code",
   "execution_count": null,
   "metadata": {
    "collapsed": true
   },
   "outputs": [],
   "source": []
  },
  {
   "cell_type": "markdown",
   "metadata": {},
   "source": [
    "Task 2. Create a new data frame by selected Opened, Changed, and Prority columns from bugs"
   ]
  },
  {
   "cell_type": "code",
   "execution_count": null,
   "metadata": {
    "collapsed": true
   },
   "outputs": [],
   "source": []
  },
  {
   "cell_type": "markdown",
   "metadata": {},
   "source": [
    "Task 3. Select 20 row and columns Opened, Changed, Priority of bugs"
   ]
  },
  {
   "cell_type": "code",
   "execution_count": null,
   "metadata": {
    "collapsed": true
   },
   "outputs": [],
   "source": []
  },
  {
   "cell_type": "markdown",
   "metadata": {},
   "source": [
    "Task 4. Remove the column Summary from the bugs"
   ]
  },
  {
   "cell_type": "code",
   "execution_count": null,
   "metadata": {
    "collapsed": true
   },
   "outputs": [],
   "source": []
  },
  {
   "cell_type": "markdown",
   "metadata": {
    "collapsed": true
   },
   "source": [
    "Task 5. Select rows for which Assignee is eclipse"
   ]
  },
  {
   "cell_type": "code",
   "execution_count": null,
   "metadata": {
    "collapsed": true
   },
   "outputs": [],
   "source": []
  }
 ],
 "metadata": {
  "kernelspec": {
   "display_name": "Python 3",
   "language": "python",
   "name": "python3"
  },
  "language_info": {
   "codemirror_mode": {
    "name": "ipython",
    "version": 3
   },
   "file_extension": ".py",
   "mimetype": "text/x-python",
   "name": "python",
   "nbconvert_exporter": "python",
   "pygments_lexer": "ipython3",
   "version": "3.6.1"
  }
 },
 "nbformat": 4,
 "nbformat_minor": 2
}
